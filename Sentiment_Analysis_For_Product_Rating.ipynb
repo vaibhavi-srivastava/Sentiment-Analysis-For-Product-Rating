{
  "nbformat": 4,
  "nbformat_minor": 0,
  "metadata": {
    "colab": {
      "name": "Sentiment Analysis For Product Rating.ipynb",
      "provenance": [],
      "collapsed_sections": []
    },
    "kernelspec": {
      "name": "python3",
      "display_name": "Python 3"
    },
    "language_info": {
      "name": "python"
    },
    "accelerator": "GPU",
    "gpuClass": "standard"
  },
  "cells": [
    {
      "cell_type": "code",
      "execution_count": null,
      "metadata": {
        "id": "E7Tirm7yX0_u"
      },
      "outputs": [],
      "source": [
        "import tensorflow as tf\n",
        "import tensorflow_hub as hub\n",
        "\n",
        "from imblearn.under_sampling import RandomUnderSampler\n",
        "from sklearn.model_selection import train_test_split\n",
        "\n",
        "import matplotlib.pyplot as plt\n",
        "import numpy as np\n",
        "import pandas as pd\n",
        "import seaborn as sns\n",
        "\n",
        "import os\n",
        "import json\n",
        "import gzip\n",
        "from urllib.request import urlopen\n",
        "from keras.models import load_model\n",
        "\n",
        "from tensorflow.keras.preprocessing.text import Tokenizer\n",
        "from tensorflow.keras.preprocessing.sequence import pad_sequences\n",
        "from tensorflow.keras.utils import plot_model"
      ]
    },
    {
      "cell_type": "code",
      "source": [
        "!wget http://deepyeti.ucsd.edu/jianmo/amazon/categoryFilesSmall/Cell_Phones_and_Accessories_5.json.gz\n",
        "!wget http://deepyeti.ucsd.edu/jianmo/amazon/categoryFilesSmall/Arts_Crafts_and_Sewing_5.json.gz\n",
        "!wget http://deepyeti.ucsd.edu/jianmo/amazon/categoryFilesSmall/Clothing_Shoes_and_Jewelry_5.json.gz\n",
        "!wget http://deepyeti.ucsd.edu/jianmo/amazon/categoryFilesSmall/Books_5.json.gz\n",
        "!wget http://deepyeti.ucsd.edu/jianmo/amazon/categoryFilesSmall/Electronics_5.json.gz\n",
        "!wget http://deepyeti.ucsd.edu/jianmo/amazon/categoryFilesSmall/Home_and_Kitchen_5.json.gz\n",
        "!wget http://deepyeti.ucsd.edu/jianmo/amazon/categoryFilesSmall/Kindle_Store_5.json.gz\n",
        "!wget http://deepyeti.ucsd.edu/jianmo/amazon/categoryFilesSmall/Sports_and_Outdoors_5.json.gz\n",
        "!wget http://deepyeti.ucsd.edu/jianmo/amazon/categoryFilesSmall/Toys_and_Games_5.json.gz"
      ],
      "metadata": {
        "colab": {
          "base_uri": "https://localhost:8080/"
        },
        "id": "TGjuqzdKZPtw",
        "outputId": "692f113a-4316-4e7b-9896-1afebf061119"
      },
      "execution_count": null,
      "outputs": [
        {
          "output_type": "stream",
          "name": "stdout",
          "text": [
            "--2022-07-03 07:55:14--  http://deepyeti.ucsd.edu/jianmo/amazon/categoryFilesSmall/Cell_Phones_and_Accessories_5.json.gz\n",
            "Resolving deepyeti.ucsd.edu (deepyeti.ucsd.edu)... 169.228.63.50\n",
            "Connecting to deepyeti.ucsd.edu (deepyeti.ucsd.edu)|169.228.63.50|:80... connected.\n",
            "HTTP request sent, awaiting response... 200 OK\n",
            "Length: 169071325 (161M) [application/octet-stream]\n",
            "Saving to: ‘Cell_Phones_and_Accessories_5.json.gz’\n",
            "\n",
            "Cell_Phones_and_Acc 100%[===================>] 161.24M  41.7MB/s    in 4.3s    \n",
            "\n",
            "2022-07-03 07:55:18 (37.5 MB/s) - ‘Cell_Phones_and_Accessories_5.json.gz’ saved [169071325/169071325]\n",
            "\n",
            "--2022-07-03 07:55:18--  http://deepyeti.ucsd.edu/jianmo/amazon/categoryFilesSmall/Arts_Crafts_and_Sewing_5.json.gz\n",
            "Resolving deepyeti.ucsd.edu (deepyeti.ucsd.edu)... 169.228.63.50\n",
            "Connecting to deepyeti.ucsd.edu (deepyeti.ucsd.edu)|169.228.63.50|:80... connected.\n",
            "HTTP request sent, awaiting response... 200 OK\n",
            "Length: 53965563 (51M) [application/octet-stream]\n",
            "Saving to: ‘Arts_Crafts_and_Sewing_5.json.gz’\n",
            "\n",
            "Arts_Crafts_and_Sew 100%[===================>]  51.46M  31.4MB/s    in 1.6s    \n",
            "\n",
            "2022-07-03 07:55:20 (31.4 MB/s) - ‘Arts_Crafts_and_Sewing_5.json.gz’ saved [53965563/53965563]\n",
            "\n",
            "--2022-07-03 07:55:20--  http://deepyeti.ucsd.edu/jianmo/amazon/categoryFilesSmall/Clothing_Shoes_and_Jewelry_5.json.gz\n",
            "Resolving deepyeti.ucsd.edu (deepyeti.ucsd.edu)... 169.228.63.50\n",
            "Connecting to deepyeti.ucsd.edu (deepyeti.ucsd.edu)|169.228.63.50|:80... connected.\n",
            "HTTP request sent, awaiting response... 200 OK\n",
            "Length: 1262892731 (1.2G) [application/octet-stream]\n",
            "Saving to: ‘Clothing_Shoes_and_Jewelry_5.json.gz’\n",
            "\n",
            "Clothing_Shoes_and_ 100%[===================>]   1.18G  41.5MB/s    in 29s     \n",
            "\n",
            "2022-07-03 07:55:50 (41.1 MB/s) - ‘Clothing_Shoes_and_Jewelry_5.json.gz’ saved [1262892731/1262892731]\n",
            "\n",
            "--2022-07-03 07:55:50--  http://deepyeti.ucsd.edu/jianmo/amazon/categoryFilesSmall/Books_5.json.gz\n",
            "Resolving deepyeti.ucsd.edu (deepyeti.ucsd.edu)... 169.228.63.50\n",
            "Connecting to deepyeti.ucsd.edu (deepyeti.ucsd.edu)|169.228.63.50|:80... connected.\n",
            "HTTP request sent, awaiting response... 200 OK\n",
            "Length: 7096438325 (6.6G) [application/octet-stream]\n",
            "Saving to: ‘Books_5.json.gz’\n",
            "\n",
            "Books_5.json.gz     100%[===================>]   6.61G  41.6MB/s    in 2m 43s  \n",
            "\n",
            "2022-07-03 07:58:33 (41.5 MB/s) - ‘Books_5.json.gz’ saved [7096438325/7096438325]\n",
            "\n",
            "--2022-07-03 07:58:33--  http://deepyeti.ucsd.edu/jianmo/amazon/categoryFilesSmall/Electronics_5.json.gz\n",
            "Resolving deepyeti.ucsd.edu (deepyeti.ucsd.edu)... 169.228.63.50\n",
            "Connecting to deepyeti.ucsd.edu (deepyeti.ucsd.edu)|169.228.63.50|:80... connected.\n",
            "HTTP request sent, awaiting response... 200 OK\n",
            "Length: 1251876861 (1.2G) [application/octet-stream]\n",
            "Saving to: ‘Electronics_5.json.gz’\n",
            "\n",
            "Electronics_5.json. 100%[===================>]   1.17G  41.6MB/s    in 29s     \n",
            "\n",
            "2022-07-03 07:59:03 (41.1 MB/s) - ‘Electronics_5.json.gz’ saved [1251876861/1251876861]\n",
            "\n",
            "--2022-07-03 07:59:03--  http://deepyeti.ucsd.edu/jianmo/amazon/categoryFilesSmall/Home_and_Kitchen_5.json.gz\n",
            "Resolving deepyeti.ucsd.edu (deepyeti.ucsd.edu)... 169.228.63.50\n",
            "Connecting to deepyeti.ucsd.edu (deepyeti.ucsd.edu)|169.228.63.50|:80... connected.\n",
            "HTTP request sent, awaiting response... 200 OK\n",
            "Length: 953876340 (910M) [application/octet-stream]\n",
            "Saving to: ‘Home_and_Kitchen_5.json.gz’\n",
            "\n",
            "Home_and_Kitchen_5. 100%[===================>] 909.69M  41.6MB/s    in 22s     \n",
            "\n",
            "2022-07-03 07:59:25 (40.9 MB/s) - ‘Home_and_Kitchen_5.json.gz’ saved [953876340/953876340]\n",
            "\n",
            "--2022-07-03 07:59:25--  http://deepyeti.ucsd.edu/jianmo/amazon/categoryFilesSmall/Kindle_Store_5.json.gz\n",
            "Resolving deepyeti.ucsd.edu (deepyeti.ucsd.edu)... 169.228.63.50\n",
            "Connecting to deepyeti.ucsd.edu (deepyeti.ucsd.edu)|169.228.63.50|:80... connected.\n",
            "HTTP request sent, awaiting response... 200 OK\n",
            "Length: 538673481 (514M) [application/octet-stream]\n",
            "Saving to: ‘Kindle_Store_5.json.gz’\n",
            "\n",
            "Kindle_Store_5.json 100%[===================>] 513.72M  41.4MB/s    in 13s     \n",
            "\n",
            "2022-07-03 07:59:38 (40.2 MB/s) - ‘Kindle_Store_5.json.gz’ saved [538673481/538673481]\n",
            "\n",
            "--2022-07-03 07:59:39--  http://deepyeti.ucsd.edu/jianmo/amazon/categoryFilesSmall/Sports_and_Outdoors_5.json.gz\n",
            "Resolving deepyeti.ucsd.edu (deepyeti.ucsd.edu)... 169.228.63.50\n",
            "Connecting to deepyeti.ucsd.edu (deepyeti.ucsd.edu)|169.228.63.50|:80... connected.\n",
            "HTTP request sent, awaiting response... 200 OK\n",
            "Length: 414308704 (395M) [application/octet-stream]\n",
            "Saving to: ‘Sports_and_Outdoors_5.json.gz’\n",
            "\n",
            "Sports_and_Outdoors 100%[===================>] 395.12M  41.9MB/s    in 9.9s    \n",
            "\n",
            "2022-07-03 07:59:49 (40.0 MB/s) - ‘Sports_and_Outdoors_5.json.gz’ saved [414308704/414308704]\n",
            "\n",
            "--2022-07-03 07:59:49--  http://deepyeti.ucsd.edu/jianmo/amazon/categoryFilesSmall/Toys_and_Games_5.json.gz\n",
            "Resolving deepyeti.ucsd.edu (deepyeti.ucsd.edu)... 169.228.63.50\n",
            "Connecting to deepyeti.ucsd.edu (deepyeti.ucsd.edu)|169.228.63.50|:80... connected.\n",
            "HTTP request sent, awaiting response... 200 OK\n",
            "Length: 242925873 (232M) [application/octet-stream]\n",
            "Saving to: ‘Toys_and_Games_5.json.gz’\n",
            "\n",
            "Toys_and_Games_5.js 100%[===================>] 231.67M  41.5MB/s    in 6.0s    \n",
            "\n",
            "2022-07-03 07:59:55 (38.9 MB/s) - ‘Toys_and_Games_5.json.gz’ saved [242925873/242925873]\n",
            "\n"
          ]
        }
      ]
    },
    {
      "cell_type": "code",
      "source": [
        "datasets = {\n",
        "    1 : 'Cell_Phones_and_Accessories',\n",
        "    2 : 'Arts_Crafts_and_Sewing',\n",
        "    3 : 'Clothing_Shoes_and_Jewelry',\n",
        "    4 : 'Books',\n",
        "    5 : 'Electronics',\n",
        "    6 : 'Kindle_Store',\n",
        "    7 : 'Sports_and_Outdoors',\n",
        "    8 : 'Toys_and_Games'\n",
        "}"
      ],
      "metadata": {
        "id": "EKDbBwVfZ_gb"
      },
      "execution_count": null,
      "outputs": []
    },
    {
      "cell_type": "code",
      "source": [
        "def extract_zip(data_name):\n",
        "  \n",
        "  data = []\n",
        "  path = '/content/'+ data_name + '_5.json.gz'\n",
        "  count = 0\n",
        "  with gzip.open(path) as f:\n",
        "    for l in f:\n",
        "      if count < 100000:\n",
        "        data.append(json.loads(l.strip()))\n",
        "      count += 1\n",
        "      \n",
        " \n",
        "  print(f'{count}', ' : ', data_name)\n",
        "\n",
        "  return data"
      ],
      "metadata": {
        "id": "edFWt4uGaMba"
      },
      "execution_count": null,
      "outputs": []
    },
    {
      "cell_type": "markdown",
      "source": [
        ""
      ],
      "metadata": {
        "id": "v9uWg8QdV0K_"
      }
    },
    {
      "cell_type": "code",
      "source": [
        "data = {}\n",
        "for dataset in datasets.values():\n",
        "  data[dataset] = extract_zip(dataset)"
      ],
      "metadata": {
        "colab": {
          "base_uri": "https://localhost:8080/"
        },
        "id": "X3AIFK0QaR4s",
        "outputId": "55993acb-edac-45d3-ffa8-b1543e729ec6"
      },
      "execution_count": null,
      "outputs": [
        {
          "output_type": "stream",
          "name": "stdout",
          "text": [
            "1128437  :  Cell_Phones_and_Accessories\n",
            "494485  :  Arts_Crafts_and_Sewing\n",
            "11285464  :  Clothing_Shoes_and_Jewelry\n",
            "27164983  :  Books\n",
            "6739590  :  Electronics\n",
            "2222983  :  Kindle_Store\n",
            "2839940  :  Sports_and_Outdoors\n",
            "1828971  :  Toys_and_Games\n"
          ]
        }
      ]
    },
    {
      "cell_type": "code",
      "source": [
        "\n",
        "df = pd.DataFrame.from_dict(data['Cell_Phones_and_Accessories'])\n",
        "\n",
        "df.head()\n"
      ],
      "metadata": {
        "colab": {
          "base_uri": "https://localhost:8080/",
          "height": 320
        },
        "id": "bN90sr7wa6WL",
        "outputId": "40148739-9f05-4a1a-a244-b73279fcc015"
      },
      "execution_count": null,
      "outputs": [
        {
          "output_type": "execute_result",
          "data": {
            "text/plain": [
              "   overall  verified   reviewTime      reviewerID        asin  \\\n",
              "0      5.0      True   08 4, 2014  A24E3SXTC62LJI  7508492919   \n",
              "1      5.0      True  02 12, 2014  A269FLZCB4GIPV  7508492919   \n",
              "2      3.0      True   02 8, 2014   AB6CHQWHZW4TV  7508492919   \n",
              "3      2.0      True   02 4, 2014   A1M117A53LEI8  7508492919   \n",
              "4      4.0      True   02 3, 2014  A272DUT8M88ZS8  7508492919   \n",
              "\n",
              "                  style      reviewerName  \\\n",
              "0  {'Color:': ' Bling'}  Claudia Valdivia   \n",
              "1                   NaN       sarah ponce   \n",
              "2                   NaN               Kai   \n",
              "3                   NaN   Sharon Williams   \n",
              "4                   NaN   Bella Rodriguez   \n",
              "\n",
              "                                          reviewText  \\\n",
              "0  Looks even better in person. Be careful to not...   \n",
              "1  When you don't want to spend a whole lot of ca...   \n",
              "2  so the case came on time, i love the design. I...   \n",
              "3  DON'T CARE FOR IT.  GAVE IT AS A GIFT AND THEY...   \n",
              "4  I liked it because it was cute, but the studs ...   \n",
              "\n",
              "                               summary  unixReviewTime vote image  \n",
              "0  Can't stop won't stop looking at it      1407110400  NaN   NaN  \n",
              "1                                    1      1392163200  NaN   NaN  \n",
              "2                             Its okay      1391817600  NaN   NaN  \n",
              "3                                 CASE      1391472000  NaN   NaN  \n",
              "4                                Cute!      1391385600  NaN   NaN  "
            ],
            "text/html": [
              "\n",
              "  <div id=\"df-26a1cc9f-78d4-448a-a5f1-7b8022692618\">\n",
              "    <div class=\"colab-df-container\">\n",
              "      <div>\n",
              "<style scoped>\n",
              "    .dataframe tbody tr th:only-of-type {\n",
              "        vertical-align: middle;\n",
              "    }\n",
              "\n",
              "    .dataframe tbody tr th {\n",
              "        vertical-align: top;\n",
              "    }\n",
              "\n",
              "    .dataframe thead th {\n",
              "        text-align: right;\n",
              "    }\n",
              "</style>\n",
              "<table border=\"1\" class=\"dataframe\">\n",
              "  <thead>\n",
              "    <tr style=\"text-align: right;\">\n",
              "      <th></th>\n",
              "      <th>overall</th>\n",
              "      <th>verified</th>\n",
              "      <th>reviewTime</th>\n",
              "      <th>reviewerID</th>\n",
              "      <th>asin</th>\n",
              "      <th>style</th>\n",
              "      <th>reviewerName</th>\n",
              "      <th>reviewText</th>\n",
              "      <th>summary</th>\n",
              "      <th>unixReviewTime</th>\n",
              "      <th>vote</th>\n",
              "      <th>image</th>\n",
              "    </tr>\n",
              "  </thead>\n",
              "  <tbody>\n",
              "    <tr>\n",
              "      <th>0</th>\n",
              "      <td>5.0</td>\n",
              "      <td>True</td>\n",
              "      <td>08 4, 2014</td>\n",
              "      <td>A24E3SXTC62LJI</td>\n",
              "      <td>7508492919</td>\n",
              "      <td>{'Color:': ' Bling'}</td>\n",
              "      <td>Claudia Valdivia</td>\n",
              "      <td>Looks even better in person. Be careful to not...</td>\n",
              "      <td>Can't stop won't stop looking at it</td>\n",
              "      <td>1407110400</td>\n",
              "      <td>NaN</td>\n",
              "      <td>NaN</td>\n",
              "    </tr>\n",
              "    <tr>\n",
              "      <th>1</th>\n",
              "      <td>5.0</td>\n",
              "      <td>True</td>\n",
              "      <td>02 12, 2014</td>\n",
              "      <td>A269FLZCB4GIPV</td>\n",
              "      <td>7508492919</td>\n",
              "      <td>NaN</td>\n",
              "      <td>sarah ponce</td>\n",
              "      <td>When you don't want to spend a whole lot of ca...</td>\n",
              "      <td>1</td>\n",
              "      <td>1392163200</td>\n",
              "      <td>NaN</td>\n",
              "      <td>NaN</td>\n",
              "    </tr>\n",
              "    <tr>\n",
              "      <th>2</th>\n",
              "      <td>3.0</td>\n",
              "      <td>True</td>\n",
              "      <td>02 8, 2014</td>\n",
              "      <td>AB6CHQWHZW4TV</td>\n",
              "      <td>7508492919</td>\n",
              "      <td>NaN</td>\n",
              "      <td>Kai</td>\n",
              "      <td>so the case came on time, i love the design. I...</td>\n",
              "      <td>Its okay</td>\n",
              "      <td>1391817600</td>\n",
              "      <td>NaN</td>\n",
              "      <td>NaN</td>\n",
              "    </tr>\n",
              "    <tr>\n",
              "      <th>3</th>\n",
              "      <td>2.0</td>\n",
              "      <td>True</td>\n",
              "      <td>02 4, 2014</td>\n",
              "      <td>A1M117A53LEI8</td>\n",
              "      <td>7508492919</td>\n",
              "      <td>NaN</td>\n",
              "      <td>Sharon Williams</td>\n",
              "      <td>DON'T CARE FOR IT.  GAVE IT AS A GIFT AND THEY...</td>\n",
              "      <td>CASE</td>\n",
              "      <td>1391472000</td>\n",
              "      <td>NaN</td>\n",
              "      <td>NaN</td>\n",
              "    </tr>\n",
              "    <tr>\n",
              "      <th>4</th>\n",
              "      <td>4.0</td>\n",
              "      <td>True</td>\n",
              "      <td>02 3, 2014</td>\n",
              "      <td>A272DUT8M88ZS8</td>\n",
              "      <td>7508492919</td>\n",
              "      <td>NaN</td>\n",
              "      <td>Bella Rodriguez</td>\n",
              "      <td>I liked it because it was cute, but the studs ...</td>\n",
              "      <td>Cute!</td>\n",
              "      <td>1391385600</td>\n",
              "      <td>NaN</td>\n",
              "      <td>NaN</td>\n",
              "    </tr>\n",
              "  </tbody>\n",
              "</table>\n",
              "</div>\n",
              "      <button class=\"colab-df-convert\" onclick=\"convertToInteractive('df-26a1cc9f-78d4-448a-a5f1-7b8022692618')\"\n",
              "              title=\"Convert this dataframe to an interactive table.\"\n",
              "              style=\"display:none;\">\n",
              "        \n",
              "  <svg xmlns=\"http://www.w3.org/2000/svg\" height=\"24px\"viewBox=\"0 0 24 24\"\n",
              "       width=\"24px\">\n",
              "    <path d=\"M0 0h24v24H0V0z\" fill=\"none\"/>\n",
              "    <path d=\"M18.56 5.44l.94 2.06.94-2.06 2.06-.94-2.06-.94-.94-2.06-.94 2.06-2.06.94zm-11 1L8.5 8.5l.94-2.06 2.06-.94-2.06-.94L8.5 2.5l-.94 2.06-2.06.94zm10 10l.94 2.06.94-2.06 2.06-.94-2.06-.94-.94-2.06-.94 2.06-2.06.94z\"/><path d=\"M17.41 7.96l-1.37-1.37c-.4-.4-.92-.59-1.43-.59-.52 0-1.04.2-1.43.59L10.3 9.45l-7.72 7.72c-.78.78-.78 2.05 0 2.83L4 21.41c.39.39.9.59 1.41.59.51 0 1.02-.2 1.41-.59l7.78-7.78 2.81-2.81c.8-.78.8-2.07 0-2.86zM5.41 20L4 18.59l7.72-7.72 1.47 1.35L5.41 20z\"/>\n",
              "  </svg>\n",
              "      </button>\n",
              "      \n",
              "  <style>\n",
              "    .colab-df-container {\n",
              "      display:flex;\n",
              "      flex-wrap:wrap;\n",
              "      gap: 12px;\n",
              "    }\n",
              "\n",
              "    .colab-df-convert {\n",
              "      background-color: #E8F0FE;\n",
              "      border: none;\n",
              "      border-radius: 50%;\n",
              "      cursor: pointer;\n",
              "      display: none;\n",
              "      fill: #1967D2;\n",
              "      height: 32px;\n",
              "      padding: 0 0 0 0;\n",
              "      width: 32px;\n",
              "    }\n",
              "\n",
              "    .colab-df-convert:hover {\n",
              "      background-color: #E2EBFA;\n",
              "      box-shadow: 0px 1px 2px rgba(60, 64, 67, 0.3), 0px 1px 3px 1px rgba(60, 64, 67, 0.15);\n",
              "      fill: #174EA6;\n",
              "    }\n",
              "\n",
              "    [theme=dark] .colab-df-convert {\n",
              "      background-color: #3B4455;\n",
              "      fill: #D2E3FC;\n",
              "    }\n",
              "\n",
              "    [theme=dark] .colab-df-convert:hover {\n",
              "      background-color: #434B5C;\n",
              "      box-shadow: 0px 1px 3px 1px rgba(0, 0, 0, 0.15);\n",
              "      filter: drop-shadow(0px 1px 2px rgba(0, 0, 0, 0.3));\n",
              "      fill: #FFFFFF;\n",
              "    }\n",
              "  </style>\n",
              "\n",
              "      <script>\n",
              "        const buttonEl =\n",
              "          document.querySelector('#df-26a1cc9f-78d4-448a-a5f1-7b8022692618 button.colab-df-convert');\n",
              "        buttonEl.style.display =\n",
              "          google.colab.kernel.accessAllowed ? 'block' : 'none';\n",
              "\n",
              "        async function convertToInteractive(key) {\n",
              "          const element = document.querySelector('#df-26a1cc9f-78d4-448a-a5f1-7b8022692618');\n",
              "          const dataTable =\n",
              "            await google.colab.kernel.invokeFunction('convertToInteractive',\n",
              "                                                     [key], {});\n",
              "          if (!dataTable) return;\n",
              "\n",
              "          const docLinkHtml = 'Like what you see? Visit the ' +\n",
              "            '<a target=\"_blank\" href=https://colab.research.google.com/notebooks/data_table.ipynb>data table notebook</a>'\n",
              "            + ' to learn more about interactive tables.';\n",
              "          element.innerHTML = '';\n",
              "          dataTable['output_type'] = 'display_data';\n",
              "          await google.colab.output.renderOutput(dataTable, element);\n",
              "          const docLink = document.createElement('div');\n",
              "          docLink.innerHTML = docLinkHtml;\n",
              "          element.appendChild(docLink);\n",
              "        }\n",
              "      </script>\n",
              "    </div>\n",
              "  </div>\n",
              "  "
            ]
          },
          "metadata": {},
          "execution_count": 6
        }
      ]
    },
    {
      "cell_type": "code",
      "source": [
        "df = df[['overall', 'reviewText']]\n",
        "df.head()"
      ],
      "metadata": {
        "colab": {
          "base_uri": "https://localhost:8080/",
          "height": 206
        },
        "id": "YRJSaVdQbP24",
        "outputId": "dd08303f-73c1-444f-8e95-eea4c094a1eb"
      },
      "execution_count": null,
      "outputs": [
        {
          "output_type": "execute_result",
          "data": {
            "text/plain": [
              "   overall                                         reviewText\n",
              "0      5.0  Looks even better in person. Be careful to not...\n",
              "1      5.0  When you don't want to spend a whole lot of ca...\n",
              "2      3.0  so the case came on time, i love the design. I...\n",
              "3      2.0  DON'T CARE FOR IT.  GAVE IT AS A GIFT AND THEY...\n",
              "4      4.0  I liked it because it was cute, but the studs ..."
            ],
            "text/html": [
              "\n",
              "  <div id=\"df-c29a4743-6552-43f4-ad59-a52202373f24\">\n",
              "    <div class=\"colab-df-container\">\n",
              "      <div>\n",
              "<style scoped>\n",
              "    .dataframe tbody tr th:only-of-type {\n",
              "        vertical-align: middle;\n",
              "    }\n",
              "\n",
              "    .dataframe tbody tr th {\n",
              "        vertical-align: top;\n",
              "    }\n",
              "\n",
              "    .dataframe thead th {\n",
              "        text-align: right;\n",
              "    }\n",
              "</style>\n",
              "<table border=\"1\" class=\"dataframe\">\n",
              "  <thead>\n",
              "    <tr style=\"text-align: right;\">\n",
              "      <th></th>\n",
              "      <th>overall</th>\n",
              "      <th>reviewText</th>\n",
              "    </tr>\n",
              "  </thead>\n",
              "  <tbody>\n",
              "    <tr>\n",
              "      <th>0</th>\n",
              "      <td>5.0</td>\n",
              "      <td>Looks even better in person. Be careful to not...</td>\n",
              "    </tr>\n",
              "    <tr>\n",
              "      <th>1</th>\n",
              "      <td>5.0</td>\n",
              "      <td>When you don't want to spend a whole lot of ca...</td>\n",
              "    </tr>\n",
              "    <tr>\n",
              "      <th>2</th>\n",
              "      <td>3.0</td>\n",
              "      <td>so the case came on time, i love the design. I...</td>\n",
              "    </tr>\n",
              "    <tr>\n",
              "      <th>3</th>\n",
              "      <td>2.0</td>\n",
              "      <td>DON'T CARE FOR IT.  GAVE IT AS A GIFT AND THEY...</td>\n",
              "    </tr>\n",
              "    <tr>\n",
              "      <th>4</th>\n",
              "      <td>4.0</td>\n",
              "      <td>I liked it because it was cute, but the studs ...</td>\n",
              "    </tr>\n",
              "  </tbody>\n",
              "</table>\n",
              "</div>\n",
              "      <button class=\"colab-df-convert\" onclick=\"convertToInteractive('df-c29a4743-6552-43f4-ad59-a52202373f24')\"\n",
              "              title=\"Convert this dataframe to an interactive table.\"\n",
              "              style=\"display:none;\">\n",
              "        \n",
              "  <svg xmlns=\"http://www.w3.org/2000/svg\" height=\"24px\"viewBox=\"0 0 24 24\"\n",
              "       width=\"24px\">\n",
              "    <path d=\"M0 0h24v24H0V0z\" fill=\"none\"/>\n",
              "    <path d=\"M18.56 5.44l.94 2.06.94-2.06 2.06-.94-2.06-.94-.94-2.06-.94 2.06-2.06.94zm-11 1L8.5 8.5l.94-2.06 2.06-.94-2.06-.94L8.5 2.5l-.94 2.06-2.06.94zm10 10l.94 2.06.94-2.06 2.06-.94-2.06-.94-.94-2.06-.94 2.06-2.06.94z\"/><path d=\"M17.41 7.96l-1.37-1.37c-.4-.4-.92-.59-1.43-.59-.52 0-1.04.2-1.43.59L10.3 9.45l-7.72 7.72c-.78.78-.78 2.05 0 2.83L4 21.41c.39.39.9.59 1.41.59.51 0 1.02-.2 1.41-.59l7.78-7.78 2.81-2.81c.8-.78.8-2.07 0-2.86zM5.41 20L4 18.59l7.72-7.72 1.47 1.35L5.41 20z\"/>\n",
              "  </svg>\n",
              "      </button>\n",
              "      \n",
              "  <style>\n",
              "    .colab-df-container {\n",
              "      display:flex;\n",
              "      flex-wrap:wrap;\n",
              "      gap: 12px;\n",
              "    }\n",
              "\n",
              "    .colab-df-convert {\n",
              "      background-color: #E8F0FE;\n",
              "      border: none;\n",
              "      border-radius: 50%;\n",
              "      cursor: pointer;\n",
              "      display: none;\n",
              "      fill: #1967D2;\n",
              "      height: 32px;\n",
              "      padding: 0 0 0 0;\n",
              "      width: 32px;\n",
              "    }\n",
              "\n",
              "    .colab-df-convert:hover {\n",
              "      background-color: #E2EBFA;\n",
              "      box-shadow: 0px 1px 2px rgba(60, 64, 67, 0.3), 0px 1px 3px 1px rgba(60, 64, 67, 0.15);\n",
              "      fill: #174EA6;\n",
              "    }\n",
              "\n",
              "    [theme=dark] .colab-df-convert {\n",
              "      background-color: #3B4455;\n",
              "      fill: #D2E3FC;\n",
              "    }\n",
              "\n",
              "    [theme=dark] .colab-df-convert:hover {\n",
              "      background-color: #434B5C;\n",
              "      box-shadow: 0px 1px 3px 1px rgba(0, 0, 0, 0.15);\n",
              "      filter: drop-shadow(0px 1px 2px rgba(0, 0, 0, 0.3));\n",
              "      fill: #FFFFFF;\n",
              "    }\n",
              "  </style>\n",
              "\n",
              "      <script>\n",
              "        const buttonEl =\n",
              "          document.querySelector('#df-c29a4743-6552-43f4-ad59-a52202373f24 button.colab-df-convert');\n",
              "        buttonEl.style.display =\n",
              "          google.colab.kernel.accessAllowed ? 'block' : 'none';\n",
              "\n",
              "        async function convertToInteractive(key) {\n",
              "          const element = document.querySelector('#df-c29a4743-6552-43f4-ad59-a52202373f24');\n",
              "          const dataTable =\n",
              "            await google.colab.kernel.invokeFunction('convertToInteractive',\n",
              "                                                     [key], {});\n",
              "          if (!dataTable) return;\n",
              "\n",
              "          const docLinkHtml = 'Like what you see? Visit the ' +\n",
              "            '<a target=\"_blank\" href=https://colab.research.google.com/notebooks/data_table.ipynb>data table notebook</a>'\n",
              "            + ' to learn more about interactive tables.';\n",
              "          element.innerHTML = '';\n",
              "          dataTable['output_type'] = 'display_data';\n",
              "          await google.colab.output.renderOutput(dataTable, element);\n",
              "          const docLink = document.createElement('div');\n",
              "          docLink.innerHTML = docLinkHtml;\n",
              "          element.appendChild(docLink);\n",
              "        }\n",
              "      </script>\n",
              "    </div>\n",
              "  </div>\n",
              "  "
            ]
          },
          "metadata": {},
          "execution_count": 7
        }
      ]
    },
    {
      "cell_type": "code",
      "source": [
        "for i,d in df.iloc[0:10].iterrows():\n",
        "  print(d[0],' - ', d[1])"
      ],
      "metadata": {
        "colab": {
          "base_uri": "https://localhost:8080/"
        },
        "id": "VZJP_MnqbYyV",
        "outputId": "3b55736d-4288-4032-ff57-2ca118ae6da0"
      },
      "execution_count": null,
      "outputs": [
        {
          "output_type": "stream",
          "name": "stdout",
          "text": [
            "5.0  -  Looks even better in person. Be careful to not drop your phone so often because the rhinestones will fall off (duh). More of a decorative case than it is protective, but I will say that it fits perfectly and securely on my phone. Overall, very pleased with this purchase.\n",
            "5.0  -  When you don't want to spend a whole lot of cash but want a great deal...this is the shop to buy from!\n",
            "3.0  -  so the case came on time, i love the design. I'm actually missing 2 studs but nothing too noticeable the studding is almost a bit sloppy around the bow, but once again not too noticeable. I haven't put in my phone yet so this is just what I've notice so far\n",
            "2.0  -  DON'T CARE FOR IT.  GAVE IT AS A GIFT AND THEY WERE OKAY WITH IT.  JUST NOT WHAT I EXPECTED.\n",
            "4.0  -  I liked it because it was cute, but the studs fall off easily and to protect a phone this would not be recommended. Buy if you just like it for looks.\n",
            "2.0  -  The product looked exactly like the picture and it was very nice. However only days later it fell apart. I'm very disappointed with the quality of the product.\n",
            "3.0  -  I FINALLY got my case today. It took forever to get here! It's cute and looks just like the pic. Like right after I wrote this review some of the rhinestones started falling off. The package does come with glue to glue them back on but in my opinion this case is only good for a couple of days (if that.) I wouldn't purchase another. Thanks you\n",
            "5.0  -  It is a very cute case. None of the jewels have fallen off and the bow is glued on very well. Came in the time frame that was given and I'm happy with this purchase. The only thing you might want to know is, I carry my phone in my jeans and it does fit very tightly because it is a big bow. You have to be careful but worth it.\n",
            "1.0  -  DO NOT BUY! this item is seriously cheap as heck. not worth buying it at all. I didn't even get to use it and it was already losing all of its gems. I wish I got my money back on this item!!\n",
            "4.0  -  I really love this case... you have to keep your phone face down all the time, but it's pretty good quality. Some stones come off from normal use, unless you keep it in your purse all day.\n"
          ]
        }
      ]
    },
    {
      "cell_type": "code",
      "source": [
        "df = df[df['reviewText'].notna()]\n",
        "\n",
        "\n",
        "df = df.astype({'overall': 'int32'})\n",
        "df.info()"
      ],
      "metadata": {
        "colab": {
          "base_uri": "https://localhost:8080/"
        },
        "id": "zRsSLjf_bwsZ",
        "outputId": "e22755ce-2f4f-46f0-a8f4-c2ed6c587066"
      },
      "execution_count": null,
      "outputs": [
        {
          "output_type": "stream",
          "name": "stdout",
          "text": [
            "<class 'pandas.core.frame.DataFrame'>\n",
            "Int64Index: 99965 entries, 0 to 99999\n",
            "Data columns (total 2 columns):\n",
            " #   Column      Non-Null Count  Dtype \n",
            "---  ------      --------------  ----- \n",
            " 0   overall     99965 non-null  int32 \n",
            " 1   reviewText  99965 non-null  object\n",
            "dtypes: int32(1), object(1)\n",
            "memory usage: 1.9+ MB\n"
          ]
        }
      ]
    },
    {
      "cell_type": "code",
      "source": [
        "df['overall'].plot(kind='hist', title='Rating Distribution')"
      ],
      "metadata": {
        "colab": {
          "base_uri": "https://localhost:8080/",
          "height": 298
        },
        "id": "4ayet692bz-v",
        "outputId": "5e70485b-a9f2-45c9-e2ba-d55494197174"
      },
      "execution_count": null,
      "outputs": [
        {
          "output_type": "execute_result",
          "data": {
            "text/plain": [
              "<matplotlib.axes._subplots.AxesSubplot at 0x7effca5a81d0>"
            ]
          },
          "metadata": {},
          "execution_count": 10
        },
        {
          "output_type": "display_data",
          "data": {
            "text/plain": [
              "<Figure size 432x288 with 1 Axes>"
            ],
            "image/png": "[encoded data removed]"
          },
          "metadata": {
            "needs_background": "light"
          }
        }
      ]
    },
    {
      "cell_type": "code",
      "source": [
        "\n",
        "rus  = RandomUnderSampler(random_state=42)\n",
        "df_final, _ = rus.fit_resample(df, df['overall'])\n",
        "df_final = pd.DataFrame(df_final, columns=['overall','reviewText'])\n",
        "df_final.shape"
      ],
      "metadata": {
        "colab": {
          "base_uri": "https://localhost:8080/"
        },
        "id": "STX2XIqAb4Jo",
        "outputId": "37f086b9-c455-47e0-9519-860803ed3a45"
      },
      "execution_count": null,
      "outputs": [
        {
          "output_type": "execute_result",
          "data": {
            "text/plain": [
              "(30380, 2)"
            ]
          },
          "metadata": {},
          "execution_count": 11
        }
      ]
    },
    {
      "cell_type": "code",
      "source": [
        "df_final['overall'].plot(kind='hist', title='Target Distribution after undersampling');"
      ],
      "metadata": {
        "colab": {
          "base_uri": "https://localhost:8080/",
          "height": 281
        },
        "id": "0UoMVGEOcATc",
        "outputId": "dbe106e5-ed14-406f-b153-f66c89f9ed93"
      },
      "execution_count": null,
      "outputs": [
        {
          "output_type": "display_data",
          "data": {
            "text/plain": [
              "<Figure size 432x288 with 1 Axes>"
            ],
            "image/png": "[encoded data removed]"
          },
          "metadata": {
            "needs_background": "light"
          }
        }
      ]
    },
    {
      "cell_type": "code",
      "source": [
        "def process_data(data_array, data_name):\n",
        "\n",
        "  print('######[ Processing', data_name, 'Data ]######')\n",
        "\n",
        "  df = pd.DataFrame.from_dict(data_array)\n",
        "  df = df[['overall', 'reviewText']]\n",
        "\n",
        "  print(\"Unique Rating : \", df['overall'].unique())\n",
        "\n",
        "  df = df[df['reviewText'].notna()]\n",
        "\n",
        "  \n",
        "  df = df.astype({'overall': 'int32'})\n",
        "\n",
        "  df['overall'].plot(kind='hist', title='Rating Distribution of {}'.format(data_name))\n",
        "  plt.show()\n",
        "\n",
        "\n",
        "  rus  = RandomUnderSampler(random_state=42)\n",
        "  df, _ = rus.fit_resample(df, df['overall'])\n",
        "  df = pd.DataFrame(df, columns=['overall','reviewText'])\n",
        "  print('Final size of data :', len(df), '\\n')\n",
        "\n",
        " \n",
        "  df = df.astype({'overall': 'int32'})\n",
        "\n",
        "  df['overall'].plot(kind='hist', title='Target Distribution after undersampling of {}'.format(data_name));\n",
        "  plt.show()\n",
        "\n",
        "  return df"
      ],
      "metadata": {
        "id": "JY5sjEBRcIQD"
      },
      "execution_count": null,
      "outputs": []
    },
    {
      "cell_type": "code",
      "source": [
        "processed_data = {}\n",
        "for data_name, data_array in data.items():\n",
        "  processed_data[data_name] = process_data(data_array, data_name)"
      ],
      "metadata": {
        "colab": {
          "base_uri": "https://localhost:8080/",
          "height": 1000
        },
        "id": "SGCIKv9ccPSQ",
        "outputId": "85be766f-55d7-4bfa-f886-3ed816d629c8"
      },
      "execution_count": null,
      "outputs": [
        {
          "output_type": "stream",
          "name": "stdout",
          "text": [
            "######[ Processing Cell_Phones_and_Accessories Data ]######\n",
            "Unique Rating :  [5. 3. 2. 4. 1.]\n"
          ]
        },
        {
          "output_type": "display_data",
          "data": {
            "text/plain": [
              "<Figure size 432x288 with 1 Axes>"
            ],
            "image/png": "[encoded data removed]"
          },
          "metadata": {
            "needs_background": "light"
          }
        },
        {
          "output_type": "stream",
          "name": "stdout",
          "text": [
            "Final size of data : 30380 \n",
            "\n"
          ]
        },
        {
          "output_type": "display_data",
          "data": {
            "text/plain": [
              "<Figure size 432x288 with 1 Axes>"
            ],
            "image/png": "[encoded data removed]"
          },
          "metadata": {
            "needs_background": "light"
          }
        },
        {
          "output_type": "stream",
          "name": "stdout",
          "text": [
            "######[ Processing Arts_Crafts_and_Sewing Data ]######\n",
            "Unique Rating :  [4. 5. 2. 3. 1.]\n"
          ]
        },
        {
          "output_type": "display_data",
          "data": {
            "text/plain": [
              "<Figure size 432x288 with 1 Axes>"
            ],
            "image/png": "[encoded data removed]"
          },
          "metadata": {
            "needs_background": "light"
          }
        },
        {
          "output_type": "stream",
          "name": "stdout",
          "text": [
            "Final size of data : 12955 \n",
            "\n"
          ]
        },
        {
          "output_type": "display_data",
          "data": {
            "text/plain": [
              "<Figure size 432x288 with 1 Axes>"
            ],
            "image/png": "[encoded data removed]"
          },
          "metadata": {
            "needs_background": "light"
          }
        },
        {
          "output_type": "stream",
          "name": "stdout",
          "text": [
            "######[ Processing Clothing_Shoes_and_Jewelry Data ]######\n",
            "Unique Rating :  [5. 4. 2. 3. 1.]\n"
          ]
        },
        {
          "output_type": "display_data",
          "data": {
            "text/plain": [
              "<Figure size 432x288 with 1 Axes>"
            ],
            "image/png": "[encoded data removed]"
          },
          "metadata": {
            "needs_background": "light"
          }
        },
        {
          "output_type": "stream",
          "name": "stdout",
          "text": [
            "Final size of data : 22750 \n",
            "\n"
          ]
        },
        {
          "output_type": "display_data",
          "data": {
            "text/plain": [
              "<Figure size 432x288 with 1 Axes>"
            ],
            "image/png": "[encoded data removed]"
          },
          "metadata": {
            "needs_background": "light"
          }
        },
        {
          "output_type": "stream",
          "name": "stdout",
          "text": [
            "######[ Processing Books Data ]######\n",
            "Unique Rating :  [5. 3. 2. 4. 1.]\n"
          ]
        },
        {
          "output_type": "display_data",
          "data": {
            "text/plain": [
              "<Figure size 432x288 with 1 Axes>"
            ],
            "image/png": "[encoded data removed]"
          },
          "metadata": {
            "needs_background": "light"
          }
        },
        {
          "output_type": "stream",
          "name": "stdout",
          "text": [
            "Final size of data : 17420 \n",
            "\n"
          ]
        },
        {
          "output_type": "display_data",
          "data": {
            "text/plain": [
              "<Figure size 432x288 with 1 Axes>"
            ],
            "image/png": "[encoded data removed]"
          },
          "metadata": {
            "needs_background": "light"
          }
        },
        {
          "output_type": "stream",
          "name": "stdout",
          "text": [
            "######[ Processing Electronics Data ]######\n",
            "Unique Rating :  [5. 3. 4. 2. 1.]\n"
          ]
        },
        {
          "output_type": "display_data",
          "data": {
            "text/plain": [
              "<Figure size 432x288 with 1 Axes>"
            ],
            "image/png": "[encoded data removed]"
          },
          "metadata": {
            "needs_background": "light"
          }
        },
        {
          "output_type": "stream",
          "name": "stdout",
          "text": [
            "Final size of data : 17525 \n",
            "\n"
          ]
        },
        {
          "output_type": "display_data",
          "data": {
            "text/plain": [
              "<Figure size 432x288 with 1 Axes>"
            ],
            "image/png": "[encoded data removed]"
          },
          "metadata": {
            "needs_background": "light"
          }
        },
        {
          "output_type": "stream",
          "name": "stdout",
          "text": [
            "######[ Processing Kindle_Store Data ]######\n",
            "Unique Rating :  [4. 5. 3. 2. 1.]\n"
          ]
        },
        {
          "output_type": "display_data",
          "data": {
            "text/plain": [
              "<Figure size 432x288 with 1 Axes>"
            ],
            "image/png": "[encoded data removed]"
          },
          "metadata": {
            "needs_background": "light"
          }
        },
        {
          "output_type": "stream",
          "name": "stdout",
          "text": [
            "Final size of data : 18655 \n",
            "\n"
          ]
        },
        {
          "output_type": "display_data",
          "data": {
            "text/plain": [
              "<Figure size 432x288 with 1 Axes>"
            ],
            "image/png": "[encoded data removed]"
          },
          "metadata": {
            "needs_background": "light"
          }
        },
        {
          "output_type": "stream",
          "name": "stdout",
          "text": [
            "######[ Processing Sports_and_Outdoors Data ]######\n",
            "Unique Rating :  [5. 1. 4. 3. 2.]\n"
          ]
        },
        {
          "output_type": "display_data",
          "data": {
            "text/plain": [
              "<Figure size 432x288 with 1 Axes>"
            ],
            "image/png": "[encoded data removed]"
          },
          "metadata": {
            "needs_background": "light"
          }
        },
        {
          "output_type": "stream",
          "name": "stdout",
          "text": [
            "Final size of data : 16610 \n",
            "\n"
          ]
        },
        {
          "output_type": "display_data",
          "data": {
            "text/plain": [
              "<Figure size 432x288 with 1 Axes>"
            ],
            "image/png": "[encoded data removed]"
          },
          "metadata": {
            "needs_background": "light"
          }
        },
        {
          "output_type": "stream",
          "name": "stdout",
          "text": [
            "######[ Processing Toys_and_Games Data ]######\n",
            "Unique Rating :  [5. 4. 2. 1. 3.]\n"
          ]
        },
        {
          "output_type": "display_data",
          "data": {
            "text/plain": [
              "<Figure size 432x288 with 1 Axes>"
            ],
            "image/png": "[encoded data removed]"
          },
          "metadata": {
            "needs_background": "light"
          }
        },
        {
          "output_type": "stream",
          "name": "stdout",
          "text": [
            "Final size of data : 16630 \n",
            "\n"
          ]
        },
        {
          "output_type": "display_data",
          "data": {
            "text/plain": [
              "<Figure size 432x288 with 1 Axes>"
            ],
            "image/png": "[encoded data removed]"
          },
          "metadata": {
            "needs_background": "light"
          }
        }
      ]
    },
    {
      "cell_type": "code",
      "source": [
        "\n",
        "final_data = pd.concat(processed_data.values())\n",
        "final_data.shape\n"
      ],
      "metadata": {
        "colab": {
          "base_uri": "https://localhost:8080/"
        },
        "id": "Ys4_JehRccTs",
        "outputId": "f93f3ed6-359c-47ab-d9be-9fb8393ee6bf"
      },
      "execution_count": null,
      "outputs": [
        {
          "output_type": "execute_result",
          "data": {
            "text/plain": [
              "(152925, 2)"
            ]
          },
          "metadata": {},
          "execution_count": 15
        }
      ]
    },
    {
      "cell_type": "code",
      "source": [
        "\n",
        "y = final_data.iloc[:, 0].values > 2\n",
        "y = np.array([int(i) for i in y])"
      ],
      "metadata": {
        "id": "oSz0jdhjcg7D"
      },
      "execution_count": null,
      "outputs": []
    },
    {
      "cell_type": "code",
      "source": [
        "\n",
        "X_train, X_test, Y_train, Y_test = train_test_split(final_data['reviewText'], y, random_state=42, train_size=0.9, stratify=y)\n",
        "\n",
        "print('No. of samples Training data :', X_train.shape[0])\n",
        "print('No. of samples Validation data :', X_test.shape[0])"
      ],
      "metadata": {
        "colab": {
          "base_uri": "https://localhost:8080/"
        },
        "id": "RJjxohAWclhN",
        "outputId": "3538efc6-0eab-4f53-cd1e-f4656362f236"
      },
      "execution_count": null,
      "outputs": [
        {
          "output_type": "stream",
          "name": "stdout",
          "text": [
            "No. of samples Training data : 137632\n",
            "No. of samples Validation data : 15293\n"
          ]
        }
      ]
    },
    {
      "cell_type": "code",
      "source": [
        "vocab_size = 5000\n",
        "embedding_dim = 16\n",
        "max_length = 120\n",
        "trunc_type='post'\n",
        "oov_tok = \"<OOV>\""
      ],
      "metadata": {
        "id": "UKb1gKeAcqwA"
      },
      "execution_count": null,
      "outputs": []
    },
    {
      "cell_type": "code",
      "source": [
        "tokenizer = Tokenizer(num_words = vocab_size, oov_token=oov_tok)\n",
        "tokenizer.fit_on_texts(X_train)\n",
        "word_index = tokenizer.word_index\n",
        "\n",
        "sequences = tokenizer.texts_to_sequences(X_train)\n",
        "padded = pad_sequences(sequences, maxlen=max_length, truncating=trunc_type)\n",
        "\n",
        "testing_sequences = tokenizer.texts_to_sequences(X_test)\n",
        "testing_padded = pad_sequences(testing_sequences, maxlen=max_length)"
      ],
      "metadata": {
        "id": "SQi4jqDPctCG"
      },
      "execution_count": null,
      "outputs": []
    },
    {
      "cell_type": "code",
      "source": [
        "\n",
        "reverse_word_index = dict([(value, key) for (key, value) in word_index.items()])\n",
        "\n",
        "def decode_review(text):\n",
        "    return ' '.join([reverse_word_index.get(i, '?') for i in text])\n",
        "\n",
        "print(decode_review(padded[1]))\n",
        "print(X_train[1])"
      ],
      "metadata": {
        "colab": {
          "base_uri": "https://localhost:8080/"
        },
        "id": "qoqmYTn2c0lR",
        "outputId": "ba19a1eb-d4ac-4436-d068-966946a78bca"
      },
      "execution_count": null,
      "outputs": [
        {
          "output_type": "stream",
          "name": "stdout",
          "text": [
            "? ? ? ? ? ? ? ? ? ? ? ? ? ? ? ? ? ? ? ? ? ? ? ? ? ? ? ? ? ? ? ? ? ? ? ? ? ? ? ? ? ? ? ? ? ? ? ? ? ? ? ? ? ? ? ? ? ? ? ? ? ? ? ? ? ? ? ? ? ? ? ? ? ? ? ? ? ? ? ? ? ? ? ? ? ? ? ? ? ? ? ? ? save your money and invest in an otterbox this is a poor <OOV> at a great product the plastic is cheap and the rubber doesn't fit properly\n",
            "1    Characters you don't care about, exposition in...\n",
            "1    This is a rugged case, but you will not be abl...\n",
            "1                        pile of garbage, don't buy it\n",
            "1    but definitly NOT...  tiny book..  make robot ...\n",
            "1    From buying this totally waste of technology. ...\n",
            "1    I am so frustrated with Anita Shreve.  I canno...\n",
            "1    The only thing nice I can say is it is made of...\n",
            "1                                           Toxic??!!!\n",
            "Name: reviewText, dtype: object\n"
          ]
        }
      ]
    },
    {
      "cell_type": "code",
      "source": [
        "padded.shape"
      ],
      "metadata": {
        "colab": {
          "base_uri": "https://localhost:8080/"
        },
        "id": "daJNxd7Pc8kD",
        "outputId": "0a7a8b16-d4e4-40d4-92f1-6b804bc2525b"
      },
      "execution_count": null,
      "outputs": [
        {
          "output_type": "execute_result",
          "data": {
            "text/plain": [
              "(137632, 120)"
            ]
          },
          "metadata": {},
          "execution_count": 21
        }
      ]
    },
    {
      "cell_type": "code",
      "source": [
        "\n",
        "\n",
        "inputs = tf.keras.Input(shape=(max_length))\n",
        "x = tf.keras.layers.Embedding(vocab_size, embedding_dim, input_length=max_length)(inputs)\n",
        "x = tf.keras.layers.Conv1D(120, 5, activation='relu')(x)\n",
        "x = tf.keras.layers.GlobalAveragePooling1D()(x)\n",
        "x = tf.keras.layers.Dense(32, activation='relu')(x)\n",
        "outputs =  tf.keras.layers.Dense(1, activation='sigmoid')(x)\n",
        "model = tf.keras.models.Model(inputs, outputs)\n",
        "\n",
        "opt = tf.keras.optimizers.Adam(learning_rate=0.0001)\n",
        "model.compile(loss='binary_crossentropy', optimizer=opt, metrics=['accuracy'])\n",
        "plot_model(model, to_file=\"model_plot.png\", show_shapes=True)\n",
        "model.summary()"
      ],
      "metadata": {
        "colab": {
          "base_uri": "https://localhost:8080/"
        },
        "id": "BMKoAid-dCcg",
        "outputId": "7acfe80a-ddb2-4173-feca-af65a161ba92"
      },
      "execution_count": null,
      "outputs": [
        {
          "output_type": "stream",
          "name": "stdout",
          "text": [
            "Model: \"model\"\n",
            "_________________________________________________________________\n",
            " Layer (type)                Output Shape              Param #   \n",
            "=================================================================\n",
            " input_1 (InputLayer)        [(None, 120)]             0         \n",
            "                                                                 \n",
            " embedding (Embedding)       (None, 120, 16)           80000     \n",
            "                                                                 \n",
            " conv1d (Conv1D)             (None, 116, 120)          9720      \n",
            "                                                                 \n",
            " global_average_pooling1d (G  (None, 120)              0         \n",
            " lobalAveragePooling1D)                                          \n",
            "                                                                 \n",
            " dense (Dense)               (None, 32)                3872      \n",
            "                                                                 \n",
            " dense_1 (Dense)             (None, 1)                 33        \n",
            "                                                                 \n",
            "=================================================================\n",
            "Total params: 93,625\n",
            "Trainable params: 93,625\n",
            "Non-trainable params: 0\n",
            "_________________________________________________________________\n"
          ]
        }
      ]
    },
    {
      "cell_type": "code",
      "source": [
        "num_epochs = 20\n",
        "history = model.fit(padded, Y_train, epochs=num_epochs, validation_data=(testing_padded, Y_test))"
      ],
      "metadata": {
        "colab": {
          "base_uri": "https://localhost:8080/"
        },
        "id": "ddyp9EWFdMZz",
        "outputId": "e4bfcc35-840d-4c28-9229-a147b15e59b9"
      },
      "execution_count": null,
      "outputs": [
        {
          "output_type": "stream",
          "name": "stdout",
          "text": [
            "Epoch 1/20\n",
            "4301/4301 [==============================] - 52s 12ms/step - loss: 0.5735 - accuracy: 0.6963 - val_loss: 0.4868 - val_accuracy: 0.7663\n",
            "Epoch 2/20\n",
            "4301/4301 [==============================] - 50s 12ms/step - loss: 0.4613 - accuracy: 0.7853 - val_loss: 0.4531 - val_accuracy: 0.7872\n",
            "Epoch 3/20\n",
            "4301/4301 [==============================] - 50s 12ms/step - loss: 0.4339 - accuracy: 0.7992 - val_loss: 0.4399 - val_accuracy: 0.7958\n",
            "Epoch 4/20\n",
            "4301/4301 [==============================] - 52s 12ms/step - loss: 0.4215 - accuracy: 0.8057 - val_loss: 0.4339 - val_accuracy: 0.7958\n",
            "Epoch 5/20\n",
            "4301/4301 [==============================] - 51s 12ms/step - loss: 0.4137 - accuracy: 0.8102 - val_loss: 0.4303 - val_accuracy: 0.8008\n",
            "Epoch 6/20\n",
            "4301/4301 [==============================] - 51s 12ms/step - loss: 0.4082 - accuracy: 0.8138 - val_loss: 0.4266 - val_accuracy: 0.8010\n",
            "Epoch 7/20\n",
            "4301/4301 [==============================] - 50s 12ms/step - loss: 0.4038 - accuracy: 0.8163 - val_loss: 0.4240 - val_accuracy: 0.8028\n",
            "Epoch 8/20\n",
            "4301/4301 [==============================] - 50s 12ms/step - loss: 0.4003 - accuracy: 0.8185 - val_loss: 0.4223 - val_accuracy: 0.8030\n",
            "Epoch 9/20\n",
            "4301/4301 [==============================] - 50s 12ms/step - loss: 0.3970 - accuracy: 0.8207 - val_loss: 0.4207 - val_accuracy: 0.8044\n",
            "Epoch 10/20\n",
            "4301/4301 [==============================] - 51s 12ms/step - loss: 0.3940 - accuracy: 0.8218 - val_loss: 0.4183 - val_accuracy: 0.8067\n",
            "Epoch 11/20\n",
            "4301/4301 [==============================] - 51s 12ms/step - loss: 0.3911 - accuracy: 0.8234 - val_loss: 0.4169 - val_accuracy: 0.8081\n",
            "Epoch 12/20\n",
            "4301/4301 [==============================] - 52s 12ms/step - loss: 0.3883 - accuracy: 0.8255 - val_loss: 0.4148 - val_accuracy: 0.8092\n",
            "Epoch 13/20\n",
            "4301/4301 [==============================] - 51s 12ms/step - loss: 0.3853 - accuracy: 0.8265 - val_loss: 0.4146 - val_accuracy: 0.8087\n",
            "Epoch 14/20\n",
            "4301/4301 [==============================] - 51s 12ms/step - loss: 0.3824 - accuracy: 0.8278 - val_loss: 0.4127 - val_accuracy: 0.8087\n",
            "Epoch 15/20\n",
            "4301/4301 [==============================] - 51s 12ms/step - loss: 0.3795 - accuracy: 0.8296 - val_loss: 0.4115 - val_accuracy: 0.8099\n",
            "Epoch 16/20\n",
            "4301/4301 [==============================] - 54s 13ms/step - loss: 0.3765 - accuracy: 0.8313 - val_loss: 0.4108 - val_accuracy: 0.8103\n",
            "Epoch 17/20\n",
            "4301/4301 [==============================] - 52s 12ms/step - loss: 0.3735 - accuracy: 0.8328 - val_loss: 0.4103 - val_accuracy: 0.8108\n",
            "Epoch 18/20\n",
            "4301/4301 [==============================] - 52s 12ms/step - loss: 0.3708 - accuracy: 0.8352 - val_loss: 0.4089 - val_accuracy: 0.8115\n",
            "Epoch 19/20\n",
            "4301/4301 [==============================] - 52s 12ms/step - loss: 0.3680 - accuracy: 0.8363 - val_loss: 0.4099 - val_accuracy: 0.8117\n",
            "Epoch 20/20\n",
            "4301/4301 [==============================] - 51s 12ms/step - loss: 0.3654 - accuracy: 0.8382 - val_loss: 0.4093 - val_accuracy: 0.8123\n"
          ]
        }
      ]
    },
    {
      "cell_type": "code",
      "source": [
        "model.save('/content/drive/MyDrive/Colab Notebooks/Amazon Review/model_new_1.h5')"
      ],
      "metadata": {
        "id": "R-IeUjWHdT9H"
      },
      "execution_count": null,
      "outputs": []
    },
    {
      "cell_type": "code",
      "source": [
        "plt.plot(history.history['accuracy'])\n",
        "plt.plot(history.history['val_accuracy'])\n",
        "plt.plot(history.history['loss'])\n",
        "plt.plot(history.history['val_loss'])\n",
        "plt.xlabel(\"Epochs\")\n",
        "plt.ylabel('%')\n",
        "plt.legend(['acc', 'val_acc', 'loss', 'val_loss'])\n",
        "plt.show()"
      ],
      "metadata": {
        "colab": {
          "base_uri": "https://localhost:8080/",
          "height": 279
        },
        "id": "DhtJq8KneCOA",
        "outputId": "a404e1af-0177-4254-b218-3ecb0e02f621"
      },
      "execution_count": null,
      "outputs": [
        {
          "output_type": "display_data",
          "data": {
            "text/plain": [
              "<Figure size 432x288 with 1 Axes>"
            ],
            "image/png": "[encoded data removed]"
          },
          "metadata": {
            "needs_background": "light"
          }
        }
      ]
    },
    {
      "cell_type": "code",
      "source": [
        "from sklearn.metrics import confusion_matrix, classification_report\n",
        "\n",
        "y_pred = model.predict(testing_padded)\n",
        "y_pred = y_pred > .5\n",
        "\n",
        "\n",
        "print(classification_report(Y_test, y_pred))"
      ],
      "metadata": {
        "colab": {
          "base_uri": "https://localhost:8080/"
        },
        "id": "oWbBiU63eEXw",
        "outputId": "8f43d0a5-e9d9-4dee-f59e-45bac5d14214"
      },
      "execution_count": null,
      "outputs": [
        {
          "output_type": "stream",
          "name": "stdout",
          "text": [
            "              precision    recall  f1-score   support\n",
            "\n",
            "           0       0.76      0.78      0.77      6117\n",
            "           1       0.85      0.84      0.84      9176\n",
            "\n",
            "    accuracy                           0.81     15293\n",
            "   macro avg       0.80      0.81      0.81     15293\n",
            "weighted avg       0.81      0.81      0.81     15293\n",
            "\n"
          ]
        }
      ]
    },
    {
      "cell_type": "code",
      "source": [
        "save_model = load_model('/content/drive/MyDrive/Colab Notebooks/Amazon Review/model_new_1.h5')\n",
        "\n",
        "\n",
        "save_model.compile(loss='binary_crossentropy', optimizer=opt, metrics=['accuracy'])"
      ],
      "metadata": {
        "id": "FGveJvIGrYsX"
      },
      "execution_count": null,
      "outputs": []
    },
    {
      "cell_type": "code",
      "source": [
        "your_review = \"this is the good product\""
      ],
      "metadata": {
        "id": "4G_IYH_qeMsG"
      },
      "execution_count": null,
      "outputs": []
    },
    {
      "cell_type": "code",
      "source": [
        "your_padded_review = pad_sequences(tokenizer.texts_to_sequences([your_review]), maxlen=max_length, truncating=trunc_type)\n",
        "prediction = save_model.predict(your_padded_review)[0][0]\n",
        "\n",
        "if prediction > 0.5:\n",
        "  print('good')\n",
        "else:\n",
        "  print('not good')\n",
        "\n",
        "prediction"
      ],
      "metadata": {
        "colab": {
          "base_uri": "https://localhost:8080/"
        },
        "id": "CU6yZryKeTBq",
        "outputId": "03483b43-fc12-4d76-eb84-600f514d4f9c"
      },
      "execution_count": null,
      "outputs": [
        {
          "output_type": "stream",
          "name": "stdout",
          "text": [
            "good\n"
          ]
        },
        {
          "output_type": "execute_result",
          "data": {
            "text/plain": [
              "0.9336965"
            ]
          },
          "metadata": {},
          "execution_count": 29
        }
      ]
    }
  ]
}